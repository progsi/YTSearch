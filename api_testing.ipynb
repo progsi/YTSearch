{
 "cells": [
  {
   "cell_type": "code",
   "execution_count": 1,
   "metadata": {},
   "outputs": [],
   "source": [
    "import search\n",
    "\n",
    "api_key = search.get_api_key()\n",
    "response = search.search_by_song(api_key=api_key, song_title=\"canto das tres racas\", \n",
    "                                 expansion=\"reaction\", max_results=2)\n"
   ]
  },
  {
   "cell_type": "code",
   "execution_count": 2,
   "metadata": {},
   "outputs": [
    {
     "data": {
      "text/plain": [
       "[{'title': 'Portuga reage a CANTO DAS TRÊS RAÇAS - CLARA NUNES.',\n",
       "  'video_id': 'WOHbwsFKgV0',\n",
       "  'thumbnail_url': 'https://i.ytimg.com/vi/WOHbwsFKgV0/default.jpg'},\n",
       " {'title': 'INDIAN REACT TO Canto Das Três Raças - Clara Nunes | Esau Baru',\n",
       "  'video_id': 'NQQSLjBsKVg',\n",
       "  'thumbnail_url': 'https://i.ytimg.com/vi/NQQSLjBsKVg/default.jpg'}]"
      ]
     },
     "execution_count": 2,
     "metadata": {},
     "output_type": "execute_result"
    }
   ],
   "source": [
    "response\n"
   ]
  },
  {
   "cell_type": "code",
   "execution_count": null,
   "metadata": {},
   "outputs": [],
   "source": []
  }
 ],
 "metadata": {
  "kernelspec": {
   "display_name": "ytcrawler",
   "language": "python",
   "name": "python3"
  },
  "language_info": {
   "codemirror_mode": {
    "name": "ipython",
    "version": 3
   },
   "file_extension": ".py",
   "mimetype": "text/x-python",
   "name": "python",
   "nbconvert_exporter": "python",
   "pygments_lexer": "ipython3",
   "version": "3.12.2"
  }
 },
 "nbformat": 4,
 "nbformat_minor": 2
}
